{
 "cells": [
  {
   "cell_type": "code",
   "execution_count": 1,
   "metadata": {},
   "outputs": [],
   "source": [
    "import glob\n",
    "import os\n",
    "import pandas as pd\n",
    "import re\n",
    "import string\n",
    "from pymystem3 import Mystem\n",
    "import regex\n",
    "from tqdm import tqdm_notebook as tqdm\n",
    "import plotly.graph_objs as go\n",
    "from plotly.offline import init_notebook_mode, iplot\n",
    "init_notebook_mode(connected = True)\n",
    "from IPython.display import display, Markdown\n",
    "pd.options.mode.chained_assignment = None\n"
   ]
  },
  {
   "cell_type": "code",
   "execution_count": 2,
   "metadata": {},
   "outputs": [
    {
     "name": "stdout",
     "output_type": "stream",
     "text": [
      "check encoding for index 3\n",
      "check encoding for index 4\n",
      "check encoding for index 29\n"
     ]
    }
   ],
   "source": [
    "root_path = './data/randombooks/'\n",
    "files = os.listdir(root_path)\n",
    "texts = []\n",
    "files_names = []\n",
    "\n",
    "i = 0\n",
    "for file in files:\n",
    "    i += 1\n",
    "    path_to_file = root_path + file\n",
    "    try:\n",
    "        with open(path_to_file, 'r') as book:\n",
    "            text = book.read().replace('\\n', '')\n",
    "            texts.append(text)\n",
    "            files_names.append(file)\n",
    "    except:\n",
    "        # try cp1251, if not, just coerce errors. so, need additional consideration\n",
    "        with open(path_to_file, 'r', encoding = 'cp1251', errors = 'coerce') as book:\n",
    "            print('check encoding for index ' + str(i - 1))\n",
    "            text = book.read()\n",
    "            texts.append(text)\n",
    "            files_names.append(file)\n",
    "    if i % 100 == 0:\n",
    "        print(i + ' files are read!')"
   ]
  },
  {
   "cell_type": "code",
   "execution_count": 3,
   "metadata": {},
   "outputs": [],
   "source": [
    "texts_df = pd.DataFrame({'texts': texts, 'files_names': files_names})"
   ]
  },
  {
   "cell_type": "code",
   "execution_count": 4,
   "metadata": {},
   "outputs": [],
   "source": [
    "# parse idioms from wiki\n",
    "wiki_dfs = pd.read_html('https://ru.wiktionary.org/wiki/%D0%9F%D1%80%D0%B8%D0%BB%D0%BE%D0%B6%D0%B5%D0%BD%D0%B8%D0%B5:%D0%A1%D0%BF%D0%B8%D1%81%D0%BE%D0%BA_%D1%84%D1%80%D0%B0%D0%B7%D0%B5%D0%BE%D0%BB%D0%BE%D0%B3%D0%B8%D0%B7%D0%BC%D0%BE%D0%B2_%D1%80%D1%83%D1%81%D1%81%D0%BA%D0%BE%D0%B3%D0%BE_%D1%8F%D0%B7%D1%8B%D0%BA%D0%B0', header=0)\n",
    "wiki_idioms = []\n",
    "for i in range(1, len(wiki_dfs)):\n",
    "    wiki_idioms.append(wiki_dfs[i][['Фразеологизм']])\n",
    "wiki_idioms = pd.concat(wiki_idioms)\n",
    "wiki_idioms.columns = ['idioms']"
   ]
  },
  {
   "cell_type": "code",
   "execution_count": 156,
   "metadata": {},
   "outputs": [],
   "source": [
    "# read the list of russian idioms from file\n",
    "idioms_dict = pd.read_csv('./data/idioms_dict.csv')\n",
    "idioms_dict = idioms_dict.append(wiki_idioms, sort = False)\n",
    "idioms_dict['idioms'] = idioms_dict.idioms.str.lower()"
   ]
  },
  {
   "cell_type": "code",
   "execution_count": 6,
   "metadata": {},
   "outputs": [],
   "source": [
    "def preprocess_texts(text):\n",
    "    '''cleaning string from input'''\n",
    "    m = Mystem()\n",
    "    lemmas = m.lemmatize(text)\n",
    "    text = ' '.join(lemmas)\n",
    "    text = text.lower()\n",
    "    text = ''.join([w for w in text if not re.match(r'[A-Z]+', w, re.I)])\n",
    "    text = ''.join([w for w in text if not w.isdigit()])\n",
    "    text = re.sub(r'/|\\n|\\+|—|…|<.*?>|«|»', ' ', text)\n",
    "    text = re.sub(r'\\s+', ' ', text)\n",
    "    translator = str.maketrans(' ', ' ', string.punctuation)\n",
    "    clean_text = text.translate(translator)\n",
    "    return clean_text"
   ]
  },
  {
   "cell_type": "code",
   "execution_count": 211,
   "metadata": {},
   "outputs": [],
   "source": [
    "# следующийтекст is delimeter cause preprocesing works faster on larger text\n",
    "string_idioms = ' следующийтекст '.join(list(idioms_dict['idioms']))"
   ]
  },
  {
   "cell_type": "code",
   "execution_count": 212,
   "metadata": {},
   "outputs": [],
   "source": [
    "string_idioms = preprocess_texts(string_idioms)\n",
    "lem_idioms = re.split(\" следующийтекст \", string_idioms)"
   ]
  },
  {
   "cell_type": "code",
   "execution_count": 157,
   "metadata": {},
   "outputs": [],
   "source": [
    "idioms_dict['lem_idioms'] = lem_idioms\n",
    "idioms_dict['lem_idioms'] = idioms_dict['lem_idioms'].str.rstrip()\n",
    "idioms_dict['lem_idioms'] = idioms_dict['lem_idioms'].str.replace('\\s+', '\\W+')\n",
    "idioms_dict = idioms_dict.reset_index().drop('index', axis = 1)"
   ]
  },
  {
   "cell_type": "code",
   "execution_count": 158,
   "metadata": {},
   "outputs": [],
   "source": [
    "body_parts = pd.read_csv('./data/body.parts.complete.csv')\n",
    "body_parts = list(body_parts['body_parts'])\n",
    "body_parts.append(\"язык\")"
   ]
  },
  {
   "cell_type": "code",
   "execution_count": 159,
   "metadata": {},
   "outputs": [],
   "source": [
    "idioms_dict = idioms_dict[idioms_dict.lem_idioms.str.contains('|'.join(body_parts))]"
   ]
  },
  {
   "cell_type": "code",
   "execution_count": 160,
   "metadata": {},
   "outputs": [],
   "source": [
    "idioms_dict = idioms_dict.drop_duplicates()"
   ]
  },
  {
   "cell_type": "code",
   "execution_count": 161,
   "metadata": {},
   "outputs": [],
   "source": [
    "idioms_dict.to_csv('./data/lem_idioms_dict.csv', index = False)"
   ]
  },
  {
   "cell_type": "code",
   "execution_count": 213,
   "metadata": {},
   "outputs": [
    {
     "data": {
      "application/vnd.jupyter.widget-view+json": {
       "model_id": "829eaa6df7f44448ae718e06f69f33af",
       "version_major": 2,
       "version_minor": 0
      },
      "text/plain": [
       "HBox(children=(IntProgress(value=0, max=30), HTML(value='')))"
      ]
     },
     "metadata": {},
     "output_type": "display_data"
    }
   ],
   "source": [
    "clean_texts = []\n",
    "for i in tqdm(range(len(texts))):\n",
    "    clean_texts.append(preprocess_texts(texts[i]))"
   ]
  },
  {
   "cell_type": "code",
   "execution_count": 214,
   "metadata": {},
   "outputs": [],
   "source": [
    "texts_df['clean_texts'] = clean_texts\n",
    "texts_df.to_csv('./data/sample_texts_df_detcorpus.csv', index = False)"
   ]
  },
  {
   "cell_type": "code",
   "execution_count": 215,
   "metadata": {},
   "outputs": [],
   "source": [
    "def get_matches(files_names, clean_texts, patterns):\n",
    "    matched_files = []\n",
    "    matched_idioms = []\n",
    "\n",
    "    for file_name, clean_text in tqdm(zip(files_names, clean_texts)):\n",
    "        for idiom in patterns:\n",
    "    #         # e<=n is the number of diviations from original pattern, n=0 would match the exact one\n",
    "    #         # re's match works faster than regex's, so for literal match is better to use re package\n",
    "    #         match = regex.search('(' + idiom + '){e<=0}', sample_text)\n",
    "            match = re.search(idiom, clean_text)\n",
    "            if match:\n",
    "                matched_idioms.append(idiom)\n",
    "                matched_files.append(file_name)\n",
    "    return matched_files, matched_idioms"
   ]
  },
  {
   "cell_type": "code",
   "execution_count": 216,
   "metadata": {},
   "outputs": [
    {
     "data": {
      "application/vnd.jupyter.widget-view+json": {
       "model_id": "ffeb14e48ecc4b3080a2b2ad220a696b",
       "version_major": 2,
       "version_minor": 0
      },
      "text/plain": [
       "HBox(children=(IntProgress(value=1, bar_style='info', max=1), HTML(value='')))"
      ]
     },
     "metadata": {},
     "output_type": "display_data"
    }
   ],
   "source": [
    "matched_files, matched_idioms = get_matches(files_names, clean_texts, list(idioms_dict['lem_idioms']))"
   ]
  },
  {
   "cell_type": "code",
   "execution_count": 217,
   "metadata": {},
   "outputs": [
    {
     "data": {
      "application/vnd.jupyter.widget-view+json": {
       "model_id": "266ba637d8ad430aa6292f6b05ff563f",
       "version_major": 2,
       "version_minor": 0
      },
      "text/plain": [
       "HBox(children=(IntProgress(value=1, bar_style='info', max=1), HTML(value='')))"
      ]
     },
     "metadata": {},
     "output_type": "display_data"
    }
   ],
   "source": [
    "matched_files_body, matched_body_parts = get_matches(files_names, clean_texts, body_parts)"
   ]
  },
  {
   "cell_type": "code",
   "execution_count": 227,
   "metadata": {},
   "outputs": [],
   "source": [
    "matched_idioms_df = pd.DataFrame({'files': matched_files, 'lem_idioms': matched_idioms})\n",
    "matched_idioms_stat = matched_idioms_df.groupby('lem_idioms').files\\\n",
    "    .count().reset_index().sort_values('files', ascending = False)\n",
    "matched_idioms_top = matched_idioms_stat.head(10)\n",
    "matched_idioms_top = matched_idioms_top.sort_values('files')\n",
    "matched_idioms_top = matched_idioms_top.merge(idioms_dict, on = 'lem_idioms', how = 'left')"
   ]
  },
  {
   "cell_type": "code",
   "execution_count": 228,
   "metadata": {},
   "outputs": [],
   "source": [
    "def plot_bar_chart(x, y):\n",
    "    data = [go.Bar(\n",
    "            x = x,\n",
    "            y = y,\n",
    "            orientation = 'h'\n",
    "    )]\n",
    "\n",
    "    layout = go.Layout(\n",
    "        autosize=False,\n",
    "        width=800,\n",
    "        height=500,\n",
    "        margin=dict(\n",
    "            l=300,\n",
    "            r=20,\n",
    "            b=100,\n",
    "            t=100,\n",
    "            pad=4\n",
    "        ))\n",
    "\n",
    "    figure=go.Figure(data=data,layout=layout)\n",
    "\n",
    "    return iplot(figure, filename='horizontal-bar')"
   ]
  },
  {
   "cell_type": "code",
   "execution_count": 229,
   "metadata": {},
   "outputs": [
    {
     "data": {
      "application/vnd.plotly.v1+json": {
       "data": [
        {
         "orientation": "h",
         "type": "bar",
         "uid": "42650210-3d50-11e9-bafa-a45e60d44769",
         "x": [
          7,
          8,
          8,
          8,
          8,
          9,
          11,
          11,
          22,
          26,
          40,
          40
         ],
         "y": [
          "поезд ушел",
          "куда глаза глядят",
          "надуть губы",
          "надувать губы",
          "лица нет",
          "с пустыми руками",
          "засучить рукава",
          "бросаться в глаза",
          "под носом",
          "махнуть рукой",
          "опустить руки",
          "опускать руки"
         ]
        }
       ],
       "layout": {
        "autosize": false,
        "height": 500,
        "margin": {
         "b": 100,
         "l": 300,
         "pad": 4,
         "r": 20,
         "t": 100
        },
        "width": 800
       }
      },
      "text/html": [
       "<div id=\"c6934890-892a-4dd4-8c00-039a3ee98a79\" style=\"height: 500px; width: 800px;\" class=\"plotly-graph-div\"></div><script type=\"text/javascript\">require([\"plotly\"], function(Plotly) { window.PLOTLYENV=window.PLOTLYENV || {};window.PLOTLYENV.BASE_URL=\"https://plot.ly\";\n",
       "        Plotly.plot(\n",
       "            'c6934890-892a-4dd4-8c00-039a3ee98a79',\n",
       "            [{\"orientation\": \"h\", \"x\": [7.0, 8.0, 8.0, 8.0, 8.0, 9.0, 11.0, 11.0, 22.0, 26.0, 40.0, 40.0], \"y\": [\"\\u043f\\u043e\\u0435\\u0437\\u0434 \\u0443\\u0448\\u0435\\u043b\", \"\\u043a\\u0443\\u0434\\u0430 \\u0433\\u043b\\u0430\\u0437\\u0430 \\u0433\\u043b\\u044f\\u0434\\u044f\\u0442\", \"\\u043d\\u0430\\u0434\\u0443\\u0442\\u044c \\u0433\\u0443\\u0431\\u044b\", \"\\u043d\\u0430\\u0434\\u0443\\u0432\\u0430\\u0442\\u044c \\u0433\\u0443\\u0431\\u044b\", \"\\u043b\\u0438\\u0446\\u0430 \\u043d\\u0435\\u0442\", \"\\u0441 \\u043f\\u0443\\u0441\\u0442\\u044b\\u043c\\u0438 \\u0440\\u0443\\u043a\\u0430\\u043c\\u0438\", \"\\u0437\\u0430\\u0441\\u0443\\u0447\\u0438\\u0442\\u044c \\u0440\\u0443\\u043a\\u0430\\u0432\\u0430\", \"\\u0431\\u0440\\u043e\\u0441\\u0430\\u0442\\u044c\\u0441\\u044f \\u0432 \\u0433\\u043b\\u0430\\u0437\\u0430\", \"\\u043f\\u043e\\u0434 \\u043d\\u043e\\u0441\\u043e\\u043c\", \"\\u043c\\u0430\\u0445\\u043d\\u0443\\u0442\\u044c \\u0440\\u0443\\u043a\\u043e\\u0439\", \"\\u043e\\u043f\\u0443\\u0441\\u0442\\u0438\\u0442\\u044c \\u0440\\u0443\\u043a\\u0438\", \"\\u043e\\u043f\\u0443\\u0441\\u043a\\u0430\\u0442\\u044c \\u0440\\u0443\\u043a\\u0438\"], \"type\": \"bar\", \"uid\": \"42650210-3d50-11e9-bafa-a45e60d44769\"}],\n",
       "            {\"autosize\": false, \"height\": 500, \"margin\": {\"b\": 100, \"l\": 300, \"pad\": 4, \"r\": 20, \"t\": 100}, \"width\": 800},\n",
       "            {\"showLink\": true, \"linkText\": \"Export to plot.ly\"}\n",
       "        ).then(function () {return Plotly.addFrames('c6934890-892a-4dd4-8c00-039a3ee98a79',{});}).then(function(){Plotly.animate('c6934890-892a-4dd4-8c00-039a3ee98a79');})\n",
       "        });</script>"
      ],
      "text/vnd.plotly.v1+html": [
       "<div id=\"c6934890-892a-4dd4-8c00-039a3ee98a79\" style=\"height: 500px; width: 800px;\" class=\"plotly-graph-div\"></div><script type=\"text/javascript\">require([\"plotly\"], function(Plotly) { window.PLOTLYENV=window.PLOTLYENV || {};window.PLOTLYENV.BASE_URL=\"https://plot.ly\";\n",
       "        Plotly.plot(\n",
       "            'c6934890-892a-4dd4-8c00-039a3ee98a79',\n",
       "            [{\"orientation\": \"h\", \"x\": [7.0, 8.0, 8.0, 8.0, 8.0, 9.0, 11.0, 11.0, 22.0, 26.0, 40.0, 40.0], \"y\": [\"\\u043f\\u043e\\u0435\\u0437\\u0434 \\u0443\\u0448\\u0435\\u043b\", \"\\u043a\\u0443\\u0434\\u0430 \\u0433\\u043b\\u0430\\u0437\\u0430 \\u0433\\u043b\\u044f\\u0434\\u044f\\u0442\", \"\\u043d\\u0430\\u0434\\u0443\\u0442\\u044c \\u0433\\u0443\\u0431\\u044b\", \"\\u043d\\u0430\\u0434\\u0443\\u0432\\u0430\\u0442\\u044c \\u0433\\u0443\\u0431\\u044b\", \"\\u043b\\u0438\\u0446\\u0430 \\u043d\\u0435\\u0442\", \"\\u0441 \\u043f\\u0443\\u0441\\u0442\\u044b\\u043c\\u0438 \\u0440\\u0443\\u043a\\u0430\\u043c\\u0438\", \"\\u0437\\u0430\\u0441\\u0443\\u0447\\u0438\\u0442\\u044c \\u0440\\u0443\\u043a\\u0430\\u0432\\u0430\", \"\\u0431\\u0440\\u043e\\u0441\\u0430\\u0442\\u044c\\u0441\\u044f \\u0432 \\u0433\\u043b\\u0430\\u0437\\u0430\", \"\\u043f\\u043e\\u0434 \\u043d\\u043e\\u0441\\u043e\\u043c\", \"\\u043c\\u0430\\u0445\\u043d\\u0443\\u0442\\u044c \\u0440\\u0443\\u043a\\u043e\\u0439\", \"\\u043e\\u043f\\u0443\\u0441\\u0442\\u0438\\u0442\\u044c \\u0440\\u0443\\u043a\\u0438\", \"\\u043e\\u043f\\u0443\\u0441\\u043a\\u0430\\u0442\\u044c \\u0440\\u0443\\u043a\\u0438\"], \"type\": \"bar\", \"uid\": \"42650210-3d50-11e9-bafa-a45e60d44769\"}],\n",
       "            {\"autosize\": false, \"height\": 500, \"margin\": {\"b\": 100, \"l\": 300, \"pad\": 4, \"r\": 20, \"t\": 100}, \"width\": 800},\n",
       "            {\"showLink\": true, \"linkText\": \"Export to plot.ly\"}\n",
       "        ).then(function () {return Plotly.addFrames('c6934890-892a-4dd4-8c00-039a3ee98a79',{});}).then(function(){Plotly.animate('c6934890-892a-4dd4-8c00-039a3ee98a79');})\n",
       "        });</script>"
      ]
     },
     "metadata": {},
     "output_type": "display_data"
    }
   ],
   "source": [
    "plot_bar_chart(matched_idioms_top['files'], matched_idioms_top['idioms'])"
   ]
  },
  {
   "cell_type": "code",
   "execution_count": 192,
   "metadata": {},
   "outputs": [
    {
     "data": {
      "text/markdown": [
       "Average num of idioms per text: **10**"
      ],
      "text/plain": [
       "<IPython.core.display.Markdown object>"
      ]
     },
     "metadata": {},
     "output_type": "display_data"
    }
   ],
   "source": [
    "mean_text_out = 'Average num of idioms per text:'\n",
    "mean_out =  str(int(round(pd.DataFrame(matched_idioms_df\\\n",
    "    .groupby('files').lem_idioms.count()).reset_index().lem_idioms.mean(), 0)))\n",
    "\n",
    "max_text_out = 'Maximum num of idioms in text:'\n",
    "max_out =  str(pd.DataFrame(matched_idioms_df\\\n",
    "    .groupby('files').lem_idioms.count()).reset_index().lem_idioms.max(), 0)\n",
    "\n",
    "display(Markdown('{} **{}**'.format(mean_text_out, mean_out)))\n",
    "display(Markdown('{} **{}**'.format(max_text_out, max_out)))"
   ]
  },
  {
   "cell_type": "code",
   "execution_count": 225,
   "metadata": {},
   "outputs": [],
   "source": [
    "matched_body_parts_df = pd.DataFrame({'files': matched_files_body, 'body_part': matched_body_parts})\n",
    "matched_body_parts_stat = matched_body_parts_df.groupby('body_part').files\\\n",
    "    .count().reset_index().sort_values('files', ascending = False)\n",
    "matched_body_parts_top = matched_body_parts_stat.head(10)\n",
    "matched_body_parts_top = matched_body_parts_top.sort_values('files')"
   ]
  },
  {
   "cell_type": "code",
   "execution_count": 231,
   "metadata": {},
   "outputs": [
    {
     "data": {
      "text/html": [
       "<div>\n",
       "<style scoped>\n",
       "    .dataframe tbody tr th:only-of-type {\n",
       "        vertical-align: middle;\n",
       "    }\n",
       "\n",
       "    .dataframe tbody tr th {\n",
       "        vertical-align: top;\n",
       "    }\n",
       "\n",
       "    .dataframe thead th {\n",
       "        text-align: right;\n",
       "    }\n",
       "</style>\n",
       "<table border=\"1\" class=\"dataframe\">\n",
       "  <thead>\n",
       "    <tr style=\"text-align: right;\">\n",
       "      <th></th>\n",
       "      <th>body_part</th>\n",
       "      <th>files</th>\n",
       "    </tr>\n",
       "  </thead>\n",
       "  <tbody>\n",
       "    <tr>\n",
       "      <th>32</th>\n",
       "      <td>нога</td>\n",
       "      <td>30</td>\n",
       "    </tr>\n",
       "    <tr>\n",
       "      <th>45</th>\n",
       "      <td>рот</td>\n",
       "      <td>30</td>\n",
       "    </tr>\n",
       "    <tr>\n",
       "      <th>24</th>\n",
       "      <td>ладонь</td>\n",
       "      <td>30</td>\n",
       "    </tr>\n",
       "    <tr>\n",
       "      <th>25</th>\n",
       "      <td>лицо</td>\n",
       "      <td>30</td>\n",
       "    </tr>\n",
       "    <tr>\n",
       "      <th>26</th>\n",
       "      <td>лоб</td>\n",
       "      <td>30</td>\n",
       "    </tr>\n",
       "    <tr>\n",
       "      <th>35</th>\n",
       "      <td>нос</td>\n",
       "      <td>30</td>\n",
       "    </tr>\n",
       "    <tr>\n",
       "      <th>36</th>\n",
       "      <td>палец</td>\n",
       "      <td>30</td>\n",
       "    </tr>\n",
       "    <tr>\n",
       "      <th>38</th>\n",
       "      <td>плечо</td>\n",
       "      <td>30</td>\n",
       "    </tr>\n",
       "    <tr>\n",
       "      <th>46</th>\n",
       "      <td>рука</td>\n",
       "      <td>30</td>\n",
       "    </tr>\n",
       "    <tr>\n",
       "      <th>21</th>\n",
       "      <td>кожа</td>\n",
       "      <td>30</td>\n",
       "    </tr>\n",
       "  </tbody>\n",
       "</table>\n",
       "</div>"
      ],
      "text/plain": [
       "   body_part  files\n",
       "32      нога     30\n",
       "45       рот     30\n",
       "24    ладонь     30\n",
       "25      лицо     30\n",
       "26       лоб     30\n",
       "35       нос     30\n",
       "36     палец     30\n",
       "38     плечо     30\n",
       "46      рука     30\n",
       "21      кожа     30"
      ]
     },
     "execution_count": 231,
     "metadata": {},
     "output_type": "execute_result"
    }
   ],
   "source": [
    "matched_body_parts_top"
   ]
  },
  {
   "cell_type": "code",
   "execution_count": null,
   "metadata": {},
   "outputs": [],
   "source": []
  }
 ],
 "metadata": {
  "kernelspec": {
   "display_name": "Python 3",
   "language": "python",
   "name": "python3"
  },
  "language_info": {
   "codemirror_mode": {
    "name": "ipython",
    "version": 3
   },
   "file_extension": ".py",
   "mimetype": "text/x-python",
   "name": "python",
   "nbconvert_exporter": "python",
   "pygments_lexer": "ipython3",
   "version": "3.6.8"
  }
 },
 "nbformat": 4,
 "nbformat_minor": 2
}
